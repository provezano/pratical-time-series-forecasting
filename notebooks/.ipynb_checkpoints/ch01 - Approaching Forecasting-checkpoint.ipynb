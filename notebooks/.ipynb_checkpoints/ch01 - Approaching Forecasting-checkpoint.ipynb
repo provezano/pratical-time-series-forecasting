{
 "cells": [
  {
   "cell_type": "markdown",
   "id": "5d6b414c",
   "metadata": {},
   "source": [
    "## 1.0 Approaching Forecasting"
   ]
  },
  {
   "cell_type": "markdown",
   "id": "23d1ae0d",
   "metadata": {},
   "source": [
    "This chapter's aim is to introduce the complete forecasting process"
   ]
  },
  {
   "cell_type": "markdown",
   "id": "e4826c3c",
   "metadata": {},
   "source": [
    "### 1.1 Forecasting: Where?"
   ]
  },
  {
   "cell_type": "markdown",
   "id": "5ef29ed6",
   "metadata": {},
   "source": [
    "Nearly every organization that works with quantifiable data. Some examples of time series forecasting are:"
   ]
  },
  {
   "cell_type": "markdown",
   "id": "b2d1681a",
   "metadata": {},
   "source": [
    "* Sales,\n",
    "* Total Payment Volume,\n",
    "* Lifetime Value,\n",
    "* Enrollment,\n",
    "* Production,\n",
    "* Demand,\n",
    "* Tax receipts, etc."
   ]
  },
  {
   "cell_type": "markdown",
   "id": "3ffe94ee",
   "metadata": {},
   "source": [
    "### 1.2 Basic Notation"
   ]
  },
  {
   "cell_type": "markdown",
   "id": "9f0c20c8",
   "metadata": {},
   "source": [
    "* $t = 1,2,3...$ : time period of interest. <br>\n",
    "* $y_{1}, y_{1}, y_{3}, ..., y_{n}$ : $y_{n}$ denotes the value of the series at time period $t$. <br>\n",
    "* $F_{t}$ : the forecast value for time period $t$. <br>\n",
    "* $F_{t+k}$ : the $k$-step-ahead forecast value when the forecasting time is $t$. <br>\n",
    "* $e_{t}$ : the forecast error for time period $t$, which is, ($y_{t}-F_{t}$), the difference between the actual value and the forecast time $t$."
   ]
  },
  {
   "cell_type": "markdown",
   "id": "cafbcd0b",
   "metadata": {},
   "source": [
    "### 1.3 The forecasting process"
   ]
  },
  {
   "cell_type": "markdown",
   "id": "1692bef7",
   "metadata": {},
   "source": [
    "1. Define Goal\n",
    "2. Get Data\n",
    "3. Explore and Visualize Series\n",
    "4. Pre-Process Data\n",
    "5. Partition Data\n",
    "6. Apply Forecasting Methods\n",
    "7. Evaluate and Compare Performance\n",
    "8. Implemente Forecasts/Systems"
   ]
  },
  {
   "cell_type": "markdown",
   "id": "b51fcbe6",
   "metadata": {},
   "source": [
    "It's important to state that this process is iterative and cyclical. Therefore, we should think towards delivery value as soon as we can, and improve the model(s) overtime."
   ]
  },
  {
   "cell_type": "markdown",
   "id": "8b8ae8b5",
   "metadata": {},
   "source": [
    "### 1.4 Goal definition"
   ]
  },
  {
   "cell_type": "markdown",
   "id": "a7d159ee",
   "metadata": {
    "ExecuteTime": {
     "end_time": "2021-09-07T21:11:16.658394Z",
     "start_time": "2021-09-07T21:11:16.648337Z"
    }
   },
   "source": [
    "In this step we should be worried to answer some questions associated with the topics listed below.\n",
    "\n",
    "   * Purpose of generating forecasts;\n",
    "   * The type of forecasts;\n",
    "   * How the forecasts will be used;\n",
    "   * What are the costs associated with forecast errors;\n",
    "   * What data will be available in the future;\n",
    "   * The implications of the forecasts to different stakeholders."
   ]
  },
  {
   "cell_type": "markdown",
   "id": "8b95eb7e",
   "metadata": {},
   "source": [
    "#### 1.4.1 Descriptive vs Predictive Goal"
   ]
  },
  {
   "cell_type": "markdown",
   "id": "ce13c060",
   "metadata": {},
   "source": [
    "- Descriptive modeling: Time series are modeled to determine its components. The aim here is to understand the time series model to derive rules or decision making.\n",
    "- Predictive modeling: In predictive modeling we are interested in construct models that does a good job at forecasting future values of the series."
   ]
  },
  {
   "cell_type": "markdown",
   "id": "75a7b79d",
   "metadata": {},
   "source": [
    "#### 1.4.2 Forecast Horizon and Forecast Updating"
   ]
  },
  {
   "cell_type": "markdown",
   "id": "ab825499",
   "metadata": {},
   "source": [
    "- The forecast horizon $k$ is the number of periods ahead that we must forecast.\n",
    "- We should align expectations with stackeholders about long-term forecasting, as $k$ tends to increase with the forecasting error.\n",
    "- Monitoring the model is very important to mitigate such forecasting distortions with model adjustment.\n",
    "- We can refresh a $k$-step-ahead forecast as we get new data. This process is called roll-forward forecasting."
   ]
  },
  {
   "cell_type": "markdown",
   "id": "f17245e2",
   "metadata": {},
   "source": [
    "#### 1.4.3 Forecast Use"
   ]
  },
  {
   "cell_type": "markdown",
   "id": "7b35aed7",
   "metadata": {},
   "source": [
    "- We must understand how stakeholders are going to use the forecasts, so, we can select the best evaluation method and generate useful solutions."
   ]
  },
  {
   "cell_type": "markdown",
   "id": "cc530c2d",
   "metadata": {},
   "source": [
    "#### 1.4.4 Level of Automation"
   ]
  },
  {
   "cell_type": "markdown",
   "id": "94a9d70e",
   "metadata": {},
   "source": [
    "- Given the complexity and volume of the data, what is the level of automation needed in our solution?"
   ]
  },
  {
   "cell_type": "markdown",
   "id": "081e5b72",
   "metadata": {},
   "source": [
    "### 1.5 Problem"
   ]
  },
  {
   "cell_type": "markdown",
   "id": "79af9bbe",
   "metadata": {},
   "source": [
    "Time Series Analysis study: https://www.bts.gov/sites/bts.dot.gov/files/legacy/publications/estimated_impacts_of_9_11_on_us_travel/pdf/entire.pdf"
   ]
  },
  {
   "cell_type": "markdown",
   "id": "8937dc48",
   "metadata": {},
   "source": [
    "#### 1.5.1 The problem goal"
   ]
  },
  {
   "cell_type": "markdown",
   "id": "69177eae",
   "metadata": {},
   "source": [
    "The purpose of this study is to provide a greater understanding\n",
    "of the passenger travel behavior patterns of persons making long\n",
    "distance trips before and after September 11."
   ]
  },
  {
   "cell_type": "markdown",
   "id": "bad5bbbb",
   "metadata": {},
   "source": [
    "#### 1.5.2 Questions"
   ]
  },
  {
   "cell_type": "markdown",
   "id": "49b83b22",
   "metadata": {},
   "source": [
    "1) Is the goal of this study descriptive or predictive?<br>\n",
    "**A**: Descriptive. But, we need to perform a predictive task before the analysis.<br><br>\n",
    "2) What is the forecast horizon to consider in this task? Are next-month forecasts sufficient?<br>\n",
    "**A**: 5-months. No, it would be more useful to evaluate the impact of 9/11 over months.<br><br>\n",
    "3) What level of automation does this forecasting task require? Consider the four questions related to automation.<br>\n",
    "**A**: The level of automation is very low. We only need the results once to perform a time series analysis.<br><br>\n",
    "4) What is the meaning of $t = 1, 2, 3$ in the Air series? Which time period does $t = 1$ refer to?<br>\n",
    "**A**: Mon/Year. Jan/1990.<br><br>\n",
    "5) What are the values for $y_{1}$, $y_{2}$, and $y_{3}$ in the Air series?<br>\n",
    "**A**: 35,153,577, 32,965,187, 39,993,913."
   ]
  }
 ],
 "metadata": {
  "kernelspec": {
   "display_name": "Python 3",
   "language": "python",
   "name": "python3"
  },
  "language_info": {
   "codemirror_mode": {
    "name": "ipython",
    "version": 3
   },
   "file_extension": ".py",
   "mimetype": "text/x-python",
   "name": "python",
   "nbconvert_exporter": "python",
   "pygments_lexer": "ipython3",
   "version": "3.9.6"
  }
 },
 "nbformat": 4,
 "nbformat_minor": 5
}
