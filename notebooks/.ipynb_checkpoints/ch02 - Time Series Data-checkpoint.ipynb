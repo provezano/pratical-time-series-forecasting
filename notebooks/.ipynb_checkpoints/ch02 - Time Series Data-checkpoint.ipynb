{
 "cells": [
  {
   "cell_type": "markdown",
   "id": "6b30eba7",
   "metadata": {},
   "source": [
    "## 2.0 Time Series Data"
   ]
  },
  {
   "cell_type": "markdown",
   "id": "d2666040",
   "metadata": {},
   "source": [
    "### 2.1 Data Collection"
   ]
  },
  {
   "cell_type": "markdown",
   "id": "466da64a",
   "metadata": {},
   "source": [
    "Here we'll discuss some aspects of data we should ask before think of analysis or prediction."
   ]
  },
  {
   "cell_type": "markdown",
   "id": "5ff063bc",
   "metadata": {},
   "source": [
    "#### 2.1.1 Data Quality"
   ]
  },
  {
   "cell_type": "markdown",
   "id": "5d4dc676",
   "metadata": {},
   "source": [
    "Missing values, corrupted data, data entry errors can greatly affect the forecasting results.\n",
    "We might not be worried about data quality once. The data collection process can occur several times,\n",
    "therefore we should monitor the newly collected data and apply adjustments when needed."
   ]
  },
  {
   "cell_type": "markdown",
   "id": "eb4dd508",
   "metadata": {},
   "source": [
    "#### 2.1.2 Temporal Frequency"
   ]
  },
  {
   "cell_type": "markdown",
   "id": "dfe186b4",
   "metadata": {},
   "source": [
    "The data can be available in several frequencies, like minute-by-minute level, or day-by-day level.\n",
    "However, the more granular, the more chance of noise in the data. Therefore, we would prefer to use\n",
    "month-by-month data to perform next month prediction, as the noise in aggregated data tends to cancel out.\n",
    "\n",
    "Sometimes, it can be useful to aggregate data to a lower frequency, produce the forecasts and then disaggregate the results to produce higher-frequency forecasts using some interpolation scheme for example (see https://www.researchgate.net/publication/222823272_Forecast_combinations_of_computational_intelligence_and_linear_models_for_the_NN5_time_series_forecasting_competition)"
   ]
  },
  {
   "cell_type": "markdown",
   "id": "d618e782",
   "metadata": {},
   "source": [
    "#### 2.1.3 Series Granularity"
   ]
  },
  {
   "cell_type": "markdown",
   "id": "5f78c892",
   "metadata": {},
   "source": [
    "Refers to the coverage of the data. For example, we could select only the data of a state, or city, or age group, etc.\n",
    "Again, the granularity should be aligned with the forecasting goal and levels of noise.\n",
    "\n",
    "The level of granularity can affect:\n",
    "   * the choice of preprocessing\n",
    "   * forecasting method(s)\n",
    "   * evaluation metrics."
   ]
  },
  {
   "cell_type": "markdown",
   "id": "2955461f",
   "metadata": {},
   "source": [
    "#### 2.1.4 Domain Expertise"
   ]
  },
  {
   "cell_type": "markdown",
   "id": "da178ba6",
   "metadata": {},
   "source": [
    "The domain expertise can be crucial at the conection between forecast results and usefullness.\n",
    "An expert on the subject can help us with modeling decisions, model and series understanding,\n",
    "evaluate of the forecasting results and monitoring."
   ]
  },
  {
   "cell_type": "markdown",
   "id": "2184c201",
   "metadata": {},
   "source": [
    "### 2.2 Time Series Components"
   ]
  },
  {
   "cell_type": "markdown",
   "id": "497d0bcb",
   "metadata": {},
   "source": [
    "We can dissect a time series into (1) systematic and (2) non-systematic part.\n",
    "The systematic part is composed of (1.a) level, (1.b) trend, and (1.c) seasonality.\n",
    "The non-systematic part is composed of (2.a) noise.\n",
    "\n",
    "   * Level: the average of the series.\n",
    "   * Trend: the change in the series from one period to the next.\n",
    "   * Seasonality: a short-term cyclical behaviour that can be observed several times within the series.\n",
    "   * Noise: the random variation that results from measurement error or other causes.<br><br>\n",
    "    - Every time series has level and noise, but not every series has trend and seasonality.\n",
    "\n",
    "<br>Frequently the components are considered to be **additive** or **multiplicative**.\n",
    "\n",
    "**Additive**\n",
    "\n",
    "$y_{t}$ = Level + Trend + Seasonality + Noise\n",
    "\n",
    "**Multiplicative**\n",
    "\n",
    "$y_{t}$ = Level * Trend * Seasonality * Noise"
   ]
  },
  {
   "cell_type": "markdown",
   "id": "ca2cfca1",
   "metadata": {
    "ExecuteTime": {
     "end_time": "2021-09-07T21:38:33.417352Z",
     "start_time": "2021-09-07T21:38:33.403870Z"
    }
   },
   "source": [
    "### 2.3 Visualizing Time Series"
   ]
  },
  {
   "cell_type": "markdown",
   "id": "c09ac626",
   "metadata": {},
   "source": [
    "### 2.4 Interactive Visualizing"
   ]
  },
  {
   "cell_type": "markdown",
   "id": "15fca072",
   "metadata": {},
   "source": [
    "### 2.5 Data Pre-Processing"
   ]
  },
  {
   "cell_type": "markdown",
   "id": "aa33d740",
   "metadata": {},
   "source": [
    "#### 2.5.1 Missing Values"
   ]
  },
  {
   "cell_type": "markdown",
   "id": "b4e1f6a0",
   "metadata": {},
   "source": [
    "#### 2.5.2 Unequally Spaced Series"
   ]
  },
  {
   "cell_type": "markdown",
   "id": "3a5723b3",
   "metadata": {},
   "source": [
    "#### 2.5.3 Extreme Values"
   ]
  },
  {
   "cell_type": "markdown",
   "id": "39a60ce1",
   "metadata": {},
   "source": [
    "#### 2.5.4 Choice of Time Span"
   ]
  },
  {
   "cell_type": "markdown",
   "id": "43d0c3e7",
   "metadata": {},
   "source": [
    "### 2.5 Problems"
   ]
  },
  {
   "cell_type": "code",
   "execution_count": null,
   "id": "1c1f1840",
   "metadata": {},
   "outputs": [],
   "source": []
  }
 ],
 "metadata": {
  "kernelspec": {
   "display_name": "Python 3",
   "language": "python",
   "name": "python3"
  },
  "language_info": {
   "codemirror_mode": {
    "name": "ipython",
    "version": 3
   },
   "file_extension": ".py",
   "mimetype": "text/x-python",
   "name": "python",
   "nbconvert_exporter": "python",
   "pygments_lexer": "ipython3",
   "version": "3.9.6"
  }
 },
 "nbformat": 4,
 "nbformat_minor": 5
}
